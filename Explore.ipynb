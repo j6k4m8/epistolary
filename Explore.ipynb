{
 "cells": [
  {
   "cell_type": "markdown",
   "metadata": {},
   "source": [
    "# Epistolary\n",
    "\n",
    "This tool is designed to \"print\" emails to a PDF file (one thread per file), with a blank (ruled) page after each email. \n",
    "You can write a reply to the email on the blank page, and Epistolary will convert your handwriting to text and send it as a reply to the email.\n",
    "\n",
    "It is originally designed to be used with the [Remarkable](https://remarkable.com/) tablet, which is a great device for reading and annotating PDFs, but it should work with standalone PDFs, tablet devices, or scanned documents as well.\n",
    "\n",
    "## Architecture\n",
    "\n",
    "The tool comprises three main components:\n",
    "\n",
    "* `MailboxManager`: A class that manages the mailbox, and provides methods to get the next email to be printed, and to send a reply to an email.\n",
    "* `DocumentManager`: A class that manages the PDF document library.\n",
    "* `EpistolaryOrchestrator`: A class that manages the interaction between the `MailboxManager` and the `DocumentManager`, and provides OCR and main entry point functionality.\n",
    "\n"
   ]
  },
  {
   "cell_type": "code",
   "execution_count": 1,
   "metadata": {},
   "outputs": [],
   "source": [
    "# from epistolary import EpistolaryOrchestrator\n",
    "from epistolary.mailbox_manager import SMTPIMAPMailboxManager\n",
    "from epistolary.document_manager import FilesystemDocumentManager\n",
    "from epistolary.text_extractor.tesseract_text_extractor import TesseractTextExtractor"
   ]
  },
  {
   "cell_type": "code",
   "execution_count": 8,
   "metadata": {},
   "outputs": [],
   "source": [
    "from epistolary.document_manager import DocumentManager\n",
    "from epistolary.mailbox_manager import MailboxManager\n",
    "from epistolary.text_extractor import TextExtractor\n",
    "import fitz\n",
    "import io\n",
    "from fitz import Document\n",
    "from epistolary.types import DocumentID, EmailID\n",
    "\n",
    "\n",
    "class EpistolaryOrchestrator:\n",
    "    \"\"\"A class that orchestrates the Epistolary system.\"\"\"\n",
    "\n",
    "    def __init__(\n",
    "        self,\n",
    "        mailbox_manager: MailboxManager,\n",
    "        document_manager: DocumentManager,\n",
    "    ):\n",
    "        \"\"\"Initialize the orchestrator.\n",
    "\n",
    "        Arguments:\n",
    "            mailbox_manager: The mailbox manager to use.\n",
    "            document_manager: The document manager to use.\n",
    "\n",
    "        \"\"\"\n",
    "        self.mailbox_manager = mailbox_manager\n",
    "        self.document_manager = document_manager\n",
    "\n",
    "    def refresh_document_mailbox(self):\n",
    "        \"\"\"Refresh the document mailbox.\"\"\"\n",
    "        new_emails = self.mailbox_manager.get_emails(limit=10)\n",
    "\n",
    "        # Delete all old documents:\n",
    "        for document_id in self.document_manager.list_documents():\n",
    "            # If not in the new emails, delete the document:\n",
    "            if document_id not in new_emails:\n",
    "                self.document_manager.delete_document(document_id)\n",
    "\n",
    "        # Upload all current emails:\n",
    "        for eid, _ in new_emails.items():\n",
    "            # Check if the email has already been added to the document mailbox\n",
    "            # (the document ID should be the same as the email ID)\n",
    "            if self.document_manager.has_document(DocumentID(eid)):\n",
    "                continue\n",
    "\n",
    "            # If the email has not been added, add it:\n",
    "            self.upload_email_by_id(eid)\n",
    "\n",
    "    def _email_to_document(self, email_id: EmailID) -> io.BytesIO:\n",
    "        \"\"\"Create a document by reflowing the text of an email.\n",
    "\n",
    "        Arguments:\n",
    "            email_id: The ID of the email to render to PDF.\n",
    "\n",
    "        \"\"\"\n",
    "        email = self.mailbox_manager.get_email(email_id)\n",
    "        sender = email.from_\n",
    "        subject = email.subject\n",
    "        html_body = email.html_body\n",
    "        text_body = email.text_body\n",
    "        text_body_as_html = text_body.replace(\"\\n\", \"<br />\")\n",
    "        # date = email.date\n",
    "        # Render the HTML email to a PDF using the library \"fitz\":\n",
    "        pagebox = fitz.paper_rect(\"letter\")\n",
    "        story = fitz.Story(\n",
    "            f\"\"\"\n",
    "        <p><b>{sender}</b></p>\n",
    "        <p><b>{subject}</b></p>\n",
    "        <br />\n",
    "        {html_body if html_body else text_body_as_html}\n",
    "        \"\"\"\n",
    "        )\n",
    "        page_with_margins = pagebox + (36, 36, -36, -36)  # 0.5in margins\n",
    "\n",
    "        # Create in-memory PDF:\n",
    "        pdfbytes = io.BytesIO()\n",
    "        writer = fitz.DocumentWriter(pdfbytes)\n",
    "        more = True\n",
    "        while more:\n",
    "            device = writer.begin_page(pagebox)\n",
    "            more, _ = story.place(page_with_margins)\n",
    "            story.draw(device)\n",
    "            writer.end_page()\n",
    "        writer.close()\n",
    "\n",
    "        pdfbytes.seek(0)\n",
    "        return pdfbytes\n",
    "\n",
    "    def upload_email_by_id(self, email_id: EmailID) -> DocumentID:\n",
    "        \"\"\"Upload an email to the document manager.\n",
    "\n",
    "        Arguments:\n",
    "            email_id: The ID of the email to upload.\n",
    "\n",
    "        Returns:\n",
    "            The ID of the document.\n",
    "\n",
    "        \"\"\"\n",
    "        # Create a document from the subject and text and then append a page\n",
    "        # for the user to write on\n",
    "        document_bytes = self._email_to_document(email_id)\n",
    "        document = fitz.Document(stream=document_bytes.read(), filetype=\"pdf\")\n",
    "\n",
    "        document = self.document_manager.append_ruled_page_to_document(document)\n",
    "        # Put the document into the document manager:\n",
    "        document_id = self.document_manager.put_document(document, email_id)\n",
    "        return document_id\n",
    "\n",
    "    def send_document_by_id(self, document_id: DocumentID, to: str) -> bool:\n",
    "        \"\"\"Send a document to an email address.\"\"\"\n",
    "        # Get the document:\n",
    "        document = self.document_manager.get_document(document_id)\n",
    "        # Create an email from the document:\n",
    "        subject, text = self.document_manager.create_email_from_document(document)\n",
    "        # Send the email:\n",
    "        return self.mailbox_manager.send_message(to, subject, text)"
   ]
  },
  {
   "cell_type": "code",
   "execution_count": 9,
   "metadata": {},
   "outputs": [],
   "source": [
    "# import getpass\n",
    "# pw = getpass.getpass()"
   ]
  },
  {
   "cell_type": "code",
   "execution_count": 10,
   "metadata": {},
   "outputs": [],
   "source": [
    "SM = SMTPIMAPMailboxManager(\n",
    "    \"imap.zoho.com\", 993, \"jordan@matelsky.com\", pw, \"smtp.zoho.com\", 587\n",
    ")\n",
    "\n",
    "# SM.send_message(\n",
    "#     \"\",\n",
    "#     \"Re: This is a test!\",\n",
    "#     \"Using the Epistolary library AGAIN in the same thread.\"\n",
    "# )"
   ]
  },
  {
   "cell_type": "code",
   "execution_count": 11,
   "metadata": {},
   "outputs": [
    {
     "data": {
      "text/plain": [
       "[]"
      ]
     },
     "execution_count": 11,
     "metadata": {},
     "output_type": "execute_result"
    }
   ],
   "source": [
    "import pathlib\n",
    "\n",
    "# !mkdir demo-fsdm\n",
    "fsm = FilesystemDocumentManager(pathlib.Path(\"./demo-fsdm\"))\n",
    "fsm.list_documents()\n",
    "# doc = fsm.get_document(\"test-msg\")\n",
    "# doc2 = fsm.append_ruled_page_to_document(doc)\n",
    "# fsm.put_document(doc2, \"test-msg\")\n",
    "\n",
    "# TesseractTextExtractor().extract_text_from_page(list(doc.pages())[-1])"
   ]
  },
  {
   "cell_type": "code",
   "execution_count": 12,
   "metadata": {},
   "outputs": [],
   "source": [
    "EO = EpistolaryOrchestrator(SM, fsm)"
   ]
  },
  {
   "cell_type": "code",
   "execution_count": 13,
   "metadata": {},
   "outputs": [
    {
     "ename": "KeyboardInterrupt",
     "evalue": "",
     "output_type": "error",
     "traceback": [
      "\u001b[0;31m---------------------------------------------------------------------------\u001b[0m",
      "\u001b[0;31mKeyboardInterrupt\u001b[0m                         Traceback (most recent call last)",
      "\u001b[0;32m/var/folders/wj/2nmww2qd19q6r0bbrmw_s6980000gq/T/ipykernel_2885/1169883363.py\u001b[0m in \u001b[0;36m?\u001b[0;34m()\u001b[0m\n\u001b[0;32m----> 1\u001b[0;31m \u001b[0mEO\u001b[0m\u001b[0;34m.\u001b[0m\u001b[0mrefresh_document_mailbox\u001b[0m\u001b[0;34m(\u001b[0m\u001b[0;34m)\u001b[0m\u001b[0;34m\u001b[0m\u001b[0;34m\u001b[0m\u001b[0m\n\u001b[0m",
      "\u001b[0;32m/var/folders/wj/2nmww2qd19q6r0bbrmw_s6980000gq/T/ipykernel_2885/4199400725.py\u001b[0m in \u001b[0;36m?\u001b[0;34m(self)\u001b[0m\n\u001b[1;32m     42\u001b[0m             \u001b[0;32mif\u001b[0m \u001b[0mself\u001b[0m\u001b[0;34m.\u001b[0m\u001b[0mdocument_manager\u001b[0m\u001b[0;34m.\u001b[0m\u001b[0mhas_document\u001b[0m\u001b[0;34m(\u001b[0m\u001b[0mDocumentID\u001b[0m\u001b[0;34m(\u001b[0m\u001b[0meid\u001b[0m\u001b[0;34m)\u001b[0m\u001b[0;34m)\u001b[0m\u001b[0;34m:\u001b[0m\u001b[0;34m\u001b[0m\u001b[0;34m\u001b[0m\u001b[0m\n\u001b[1;32m     43\u001b[0m                 \u001b[0;32mcontinue\u001b[0m\u001b[0;34m\u001b[0m\u001b[0;34m\u001b[0m\u001b[0m\n\u001b[1;32m     44\u001b[0m \u001b[0;34m\u001b[0m\u001b[0m\n\u001b[1;32m     45\u001b[0m             \u001b[0;31m# If the email has not been added, add it:\u001b[0m\u001b[0;34m\u001b[0m\u001b[0;34m\u001b[0m\u001b[0m\n\u001b[0;32m---> 46\u001b[0;31m             \u001b[0mself\u001b[0m\u001b[0;34m.\u001b[0m\u001b[0mupload_email_by_id\u001b[0m\u001b[0;34m(\u001b[0m\u001b[0meid\u001b[0m\u001b[0;34m)\u001b[0m\u001b[0;34m\u001b[0m\u001b[0;34m\u001b[0m\u001b[0m\n\u001b[0m",
      "\u001b[0;32m/var/folders/wj/2nmww2qd19q6r0bbrmw_s6980000gq/T/ipykernel_2885/4199400725.py\u001b[0m in \u001b[0;36m?\u001b[0;34m(self, email_id)\u001b[0m\n\u001b[1;32m     96\u001b[0m \u001b[0;34m\u001b[0m\u001b[0m\n\u001b[1;32m     97\u001b[0m         \"\"\"\n\u001b[1;32m     98\u001b[0m         \u001b[0;31m# Create a document from the subject and text and then append a page\u001b[0m\u001b[0;34m\u001b[0m\u001b[0;34m\u001b[0m\u001b[0m\n\u001b[1;32m     99\u001b[0m         \u001b[0;31m# for the user to write on\u001b[0m\u001b[0;34m\u001b[0m\u001b[0;34m\u001b[0m\u001b[0m\n\u001b[0;32m--> 100\u001b[0;31m         \u001b[0mdocument_bytes\u001b[0m \u001b[0;34m=\u001b[0m \u001b[0mself\u001b[0m\u001b[0;34m.\u001b[0m\u001b[0m_email_to_document\u001b[0m\u001b[0;34m(\u001b[0m\u001b[0memail_id\u001b[0m\u001b[0;34m)\u001b[0m\u001b[0;34m\u001b[0m\u001b[0;34m\u001b[0m\u001b[0m\n\u001b[0m\u001b[1;32m    101\u001b[0m         \u001b[0mdocument\u001b[0m \u001b[0;34m=\u001b[0m \u001b[0mfitz\u001b[0m\u001b[0;34m.\u001b[0m\u001b[0mDocument\u001b[0m\u001b[0;34m(\u001b[0m\u001b[0mstream\u001b[0m\u001b[0;34m=\u001b[0m\u001b[0mdocument_bytes\u001b[0m\u001b[0;34m.\u001b[0m\u001b[0mread\u001b[0m\u001b[0;34m(\u001b[0m\u001b[0;34m)\u001b[0m\u001b[0;34m,\u001b[0m \u001b[0mfiletype\u001b[0m\u001b[0;34m=\u001b[0m\u001b[0;34m\"pdf\"\u001b[0m\u001b[0;34m)\u001b[0m\u001b[0;34m\u001b[0m\u001b[0;34m\u001b[0m\u001b[0m\n\u001b[1;32m    102\u001b[0m \u001b[0;34m\u001b[0m\u001b[0m\n\u001b[1;32m    103\u001b[0m         \u001b[0mdocument\u001b[0m \u001b[0;34m=\u001b[0m \u001b[0mself\u001b[0m\u001b[0;34m.\u001b[0m\u001b[0mdocument_manager\u001b[0m\u001b[0;34m.\u001b[0m\u001b[0mappend_ruled_page_to_document\u001b[0m\u001b[0;34m(\u001b[0m\u001b[0mdocument\u001b[0m\u001b[0;34m)\u001b[0m\u001b[0;34m\u001b[0m\u001b[0;34m\u001b[0m\u001b[0m\n",
      "\u001b[0;32m/var/folders/wj/2nmww2qd19q6r0bbrmw_s6980000gq/T/ipykernel_2885/4199400725.py\u001b[0m in \u001b[0;36m?\u001b[0;34m(self, email_id)\u001b[0m\n\u001b[1;32m     78\u001b[0m         \u001b[0;32mwhile\u001b[0m \u001b[0mmore\u001b[0m\u001b[0;34m:\u001b[0m\u001b[0;34m\u001b[0m\u001b[0;34m\u001b[0m\u001b[0m\n\u001b[1;32m     79\u001b[0m             \u001b[0mdevice\u001b[0m \u001b[0;34m=\u001b[0m \u001b[0mwriter\u001b[0m\u001b[0;34m.\u001b[0m\u001b[0mbegin_page\u001b[0m\u001b[0;34m(\u001b[0m\u001b[0mpagebox\u001b[0m\u001b[0;34m)\u001b[0m\u001b[0;34m\u001b[0m\u001b[0;34m\u001b[0m\u001b[0m\n\u001b[1;32m     80\u001b[0m             \u001b[0mmore\u001b[0m\u001b[0;34m,\u001b[0m \u001b[0m_\u001b[0m \u001b[0;34m=\u001b[0m \u001b[0mstory\u001b[0m\u001b[0;34m.\u001b[0m\u001b[0mplace\u001b[0m\u001b[0;34m(\u001b[0m\u001b[0mpage_with_margins\u001b[0m\u001b[0;34m)\u001b[0m\u001b[0;34m\u001b[0m\u001b[0;34m\u001b[0m\u001b[0m\n\u001b[1;32m     81\u001b[0m             \u001b[0mstory\u001b[0m\u001b[0;34m.\u001b[0m\u001b[0mdraw\u001b[0m\u001b[0;34m(\u001b[0m\u001b[0mdevice\u001b[0m\u001b[0;34m)\u001b[0m\u001b[0;34m\u001b[0m\u001b[0;34m\u001b[0m\u001b[0m\n\u001b[0;32m---> 82\u001b[0;31m             \u001b[0mwriter\u001b[0m\u001b[0;34m.\u001b[0m\u001b[0mend_page\u001b[0m\u001b[0;34m(\u001b[0m\u001b[0;34m)\u001b[0m\u001b[0;34m\u001b[0m\u001b[0;34m\u001b[0m\u001b[0m\n\u001b[0m\u001b[1;32m     83\u001b[0m         \u001b[0mwriter\u001b[0m\u001b[0;34m.\u001b[0m\u001b[0mclose\u001b[0m\u001b[0;34m(\u001b[0m\u001b[0;34m)\u001b[0m\u001b[0;34m\u001b[0m\u001b[0;34m\u001b[0m\u001b[0m\n\u001b[1;32m     84\u001b[0m \u001b[0;34m\u001b[0m\u001b[0m\n\u001b[1;32m     85\u001b[0m         \u001b[0mpdfbytes\u001b[0m\u001b[0;34m.\u001b[0m\u001b[0mseek\u001b[0m\u001b[0;34m(\u001b[0m\u001b[0;36m0\u001b[0m\u001b[0;34m)\u001b[0m\u001b[0;34m\u001b[0m\u001b[0;34m\u001b[0m\u001b[0m\n",
      "\u001b[0;32m~/Documents/projects/epistolary/.venv/lib/python3.11/site-packages/fitz/__init__.py\u001b[0m in \u001b[0;36m?\u001b[0;34m(self)\u001b[0m\n\u001b[1;32m   5973\u001b[0m     \u001b[0;32mdef\u001b[0m \u001b[0mend_page\u001b[0m\u001b[0;34m(\u001b[0m \u001b[0mself\u001b[0m\u001b[0;34m)\u001b[0m\u001b[0;34m:\u001b[0m\u001b[0;34m\u001b[0m\u001b[0;34m\u001b[0m\u001b[0m\n\u001b[0;32m-> 5974\u001b[0;31m         \u001b[0mmupdf\u001b[0m\u001b[0;34m.\u001b[0m\u001b[0mfz_end_page\u001b[0m\u001b[0;34m(\u001b[0m \u001b[0mself\u001b[0m\u001b[0;34m.\u001b[0m\u001b[0mthis\u001b[0m\u001b[0;34m)\u001b[0m\u001b[0;34m\u001b[0m\u001b[0;34m\u001b[0m\u001b[0m\n\u001b[0m",
      "\u001b[0;32m~/Documents/projects/epistolary/.venv/lib/python3.11/site-packages/fitz/mupdf.py\u001b[0m in \u001b[0;36m?\u001b[0;34m(wri)\u001b[0m\n\u001b[1;32m  38211\u001b[0m     \u001b[0mClass\u001b[0m\u001b[0;34m-\u001b[0m\u001b[0maware\u001b[0m \u001b[0mwrapper\u001b[0m \u001b[0;32mfor\u001b[0m\u001b[0;31m \u001b[0m\u001b[0;31m`\u001b[0m\u001b[0;34m:\u001b[0m\u001b[0;34m:\u001b[0m\u001b[0mfz_end_page\u001b[0m\u001b[0;34m(\u001b[0m\u001b[0;34m)\u001b[0m\u001b[0;31m`\u001b[0m\u001b[0;34m.\u001b[0m\u001b[0;34m\u001b[0m\u001b[0;34m\u001b[0m\u001b[0m\n\u001b[1;32m  38212\u001b[0m         \u001b[0mCalled\u001b[0m \u001b[0mto\u001b[0m \u001b[0mend\u001b[0m \u001b[0mthe\u001b[0m \u001b[0mprocess\u001b[0m \u001b[0mof\u001b[0m \u001b[0mwriting\u001b[0m \u001b[0ma\u001b[0m \u001b[0mpage\u001b[0m \u001b[0mto\u001b[0m \u001b[0ma\u001b[0m\u001b[0;34m\u001b[0m\u001b[0;34m\u001b[0m\u001b[0m\n\u001b[1;32m  38213\u001b[0m         \u001b[0mdocument\u001b[0m\u001b[0;34m.\u001b[0m\u001b[0;34m\u001b[0m\u001b[0;34m\u001b[0m\u001b[0m\n\u001b[1;32m  38214\u001b[0m     \"\"\"\n\u001b[0;32m> 38215\u001b[0;31m     \u001b[0;32mreturn\u001b[0m \u001b[0m_mupdf\u001b[0m\u001b[0;34m.\u001b[0m\u001b[0mfz_end_page\u001b[0m\u001b[0;34m(\u001b[0m\u001b[0mwri\u001b[0m\u001b[0;34m)\u001b[0m\u001b[0;34m\u001b[0m\u001b[0;34m\u001b[0m\u001b[0m\n\u001b[0m",
      "\u001b[0;31mKeyboardInterrupt\u001b[0m: "
     ]
    }
   ],
   "source": [
    "EO.refresh_document_mailbox()"
   ]
  },
  {
   "cell_type": "code",
   "execution_count": null,
   "metadata": {},
   "outputs": [],
   "source": []
  }
 ],
 "metadata": {
  "kernelspec": {
   "display_name": ".venv",
   "language": "python",
   "name": "python3"
  },
  "language_info": {
   "codemirror_mode": {
    "name": "ipython",
    "version": 3
   },
   "file_extension": ".py",
   "mimetype": "text/x-python",
   "name": "python",
   "nbconvert_exporter": "python",
   "pygments_lexer": "ipython3",
   "version": "3.11.6"
  }
 },
 "nbformat": 4,
 "nbformat_minor": 2
}
