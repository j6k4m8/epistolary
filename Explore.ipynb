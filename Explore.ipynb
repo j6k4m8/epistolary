{
 "cells": [
  {
   "cell_type": "markdown",
   "metadata": {},
   "source": [
    "# Epistolary\n",
    "\n",
    "This tool is designed to \"print\" emails to a PDF file (one thread per file), with a blank (ruled) page after each email. \n",
    "You can write a reply to the email on the blank page, and Epistolary will convert your handwriting to text and send it as a reply to the email.\n",
    "\n",
    "It is originally designed to be used with the [Remarkable](https://remarkable.com/) tablet, which is a great device for reading and annotating PDFs, but it should work with standalone PDFs, tablet devices, or scanned documents as well.\n",
    "\n",
    "## Architecture\n",
    "\n",
    "The tool comprises three main components:\n",
    "\n",
    "* `MailboxManager`: A class that manages the mailbox, and provides methods to get the next email to be printed, and to send a reply to an email.\n",
    "* `DocumentManager`: A class that manages the PDF document library.\n",
    "* `EpistolaryOrchestrator`: A class that manages the interaction between the `MailboxManager` and the `DocumentManager`, and provides OCR and main entry point functionality.\n",
    "\n"
   ]
  },
  {
   "cell_type": "code",
   "execution_count": 1,
   "metadata": {},
   "outputs": [],
   "source": [
    "# from epistolary import EpistolaryOrchestrator\n",
    "from epistolary.mailbox_manager import SMTPIMAPMailboxManager\n",
    "from epistolary.document_manager import FilesystemDocumentManager\n",
    "from epistolary.text_extractor.tesseract_text_extractor import TesseractTextExtractor"
   ]
  },
  {
   "cell_type": "code",
   "execution_count": 2,
   "metadata": {},
   "outputs": [],
   "source": [
    "# import getpass\n",
    "\n",
    "# pw = getpass.getpass()\n",
    "\n",
    "# SM = SMTPIMAPMailboxManager(\n",
    "#     \"imap.zoho.com\", 993, \"epistolary@matelsky.com\", pw, \"smtp.zoho.com\", 587\n",
    "# )\n",
    "\n",
    "# SM.send_message(\n",
    "#     \"\",\n",
    "#     \"Re: This is a test!\",\n",
    "#     \"Using the Epistolary library AGAIN in the same thread.\"\n",
    "# )"
   ]
  },
  {
   "cell_type": "code",
   "execution_count": 3,
   "metadata": {},
   "outputs": [],
   "source": [
    "import pathlib\n",
    "\n",
    "\n",
    "fsm = FilesystemDocumentManager(pathlib.Path(\".\"))\n",
    "fsm.list_documents()\n",
    "doc = fsm.get_document(\"test-msg\")\n",
    "# doc2 = fsm.append_ruled_page_to_document(doc)\n",
    "# fsm.put_document(doc2, \"test-msg\")"
   ]
  },
  {
   "cell_type": "code",
   "execution_count": 4,
   "metadata": {},
   "outputs": [],
   "source": []
  },
  {
   "cell_type": "code",
   "execution_count": 5,
   "metadata": {},
   "outputs": [
    {
     "data": {
      "text/plain": [
       "'text\\n\\ntho iw GOOD\\n'"
      ]
     },
     "execution_count": 5,
     "metadata": {},
     "output_type": "execute_result"
    }
   ],
   "source": [
    "TesseractTextExtractor().extract_text_from_page(list(doc.pages())[-1])"
   ]
  }
 ],
 "metadata": {
  "kernelspec": {
   "display_name": ".venv",
   "language": "python",
   "name": "python3"
  },
  "language_info": {
   "codemirror_mode": {
    "name": "ipython",
    "version": 3
   },
   "file_extension": ".py",
   "mimetype": "text/x-python",
   "name": "python",
   "nbconvert_exporter": "python",
   "pygments_lexer": "ipython3",
   "version": "3.11.6"
  }
 },
 "nbformat": 4,
 "nbformat_minor": 2
}
